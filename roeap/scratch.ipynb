{
 "cells": [
  {
   "cell_type": "code",
   "execution_count": 0,
   "metadata": {
    "application/vnd.databricks.v1+cell": {
     "cellMetadata": {
      "byteLimit": 2048000,
      "rowLimit": 10000
     },
     "collapsed": true,
     "inputWidgets": {},
     "nuid": "e0ed409e-679e-4dfd-8b02-be324096b008",
     "showTitle": false,
     "tableResultSettingsMap": {},
     "title": ""
    }
   },
   "outputs": [],
   "source": [
    "%pip install networkx folium h3 polars"
   ]
  },
  {
   "cell_type": "code",
   "execution_count": 0,
   "metadata": {
    "application/vnd.databricks.v1+cell": {
     "cellMetadata": {
      "byteLimit": 2048000,
      "rowLimit": 10000
     },
     "inputWidgets": {},
     "nuid": "e2f936f1-09bb-4b71-8d1d-48fa67b835b7",
     "showTitle": false,
     "tableResultSettingsMap": {},
     "title": ""
    }
   },
   "outputs": [],
   "source": [
    "import folium\n",
    "from folium.plugins import TimestampedGeoJson\n",
    "import datetime\n",
    "from typing import TypedDict\n",
    "import pyspark.sql.functions as F\n",
    "from pyspark.sql.window import Window\n"
   ]
  },
  {
   "cell_type": "code",
   "execution_count": 0,
   "metadata": {
    "application/vnd.databricks.v1+cell": {
     "cellMetadata": {
      "byteLimit": 2048000,
      "rowLimit": 10000
     },
     "inputWidgets": {},
     "nuid": "94f4218b-9444-4b5e-8188-5aaf6688c037",
     "showTitle": false,
     "tableResultSettingsMap": {},
     "title": ""
    }
   },
   "outputs": [],
   "source": [
    "df = spark.read.parquet(\"/Volumes/caspers_abm/experiments/abm_runs_raw/00001/positions.parquet\")\n",
    "df.write.format(\"delta\").mode(\"overwrite\").saveAsTable(\"caspers_abm.experiments.positions\")\n",
    "\n",
    "df = spark.read.parquet(\"/Volumes/caspers_abm/experiments/abm_runs_raw/00001/people.parquet\")\n",
    "df.write.format(\"delta\").mode(\"overwrite\").saveAsTable(\"caspers_abm.experiments.people\")"
   ]
  },
  {
   "cell_type": "code",
   "execution_count": 0,
   "metadata": {
    "application/vnd.databricks.v1+cell": {
     "cellMetadata": {
      "byteLimit": 2048000,
      "rowLimit": 10000
     },
     "inputWidgets": {},
     "nuid": "6ece2626-66c3-4658-b49c-0820b3f1063e",
     "showTitle": false,
     "tableResultSettingsMap": {},
     "title": ""
    }
   },
   "outputs": [],
   "source": [
    "df_people = (\n",
    "    spark.table(\"caspers_abm.experiments.people\")\n",
    "    .select(\"id\", \"role\")\n",
    "    .filter(F.col(\"role\") == \"courier\")\n",
    ")\n",
    "df_positions = spark.table(\"caspers_abm.experiments.positions\").sort(\"id\", \"timestamp\")\n",
    "\n",
    "# Define window specification\n",
    "window_spec = Window.partitionBy(\"id\").orderBy(\"timestamp\")\n",
    "\n",
    "# Calculate the difference in position\n",
    "df_positions = df_positions.withColumn(\n",
    "    \"prev_position\", F.lag(\"position\").over(window_spec)\n",
    ")\n",
    "\n",
    "# Identify idle and active regions\n",
    "df_positions = df_positions.withColumn(\n",
    "    \"status\",\n",
    "    F.when(F.col(\"position\") == F.col(\"prev_position\"), \"idle\").otherwise(\"active\"),\n",
    ")\n",
    "\n",
    "# Identify the start of a new status region\n",
    "df_positions = df_positions.withColumn(\n",
    "    \"new_status_region\",\n",
    "    F.when(F.col(\"status\") != F.lag(\"status\").over(window_spec), 1).otherwise(0),\n",
    ")\n",
    "\n",
    "# Assign region ids\n",
    "df_positions = df_positions.withColumn(\n",
    "    \"trip_id\", F.sum(\"new_status_region\").over(window_spec)\n",
    ")\n",
    "\n",
    "# Drop the helper columns\n",
    "df_positions = df_positions.filter(F.col(\"status\") == \"active\").drop(\n",
    "    \"prev_position\", \"new_status_region\", \"status\"\n",
    ")\n",
    "\n",
    "df_trips = (\n",
    "    df_positions.groupBy(\"id\", \"trip_id\")\n",
    "    .agg(\n",
    "        F.collect_list(\"timestamp\").alias(\"timestamps\"),\n",
    "        F.collect_list(\"position\").alias(\"positions\"),\n",
    "    )\n",
    "    .filter(F.size(\"timestamps\") > 2)\n",
    ")\n",
    "\n",
    "\n",
    "display(df_trips)\n"
   ]
  },
  {
   "cell_type": "code",
   "execution_count": 0,
   "metadata": {
    "application/vnd.databricks.v1+cell": {
     "cellMetadata": {
      "byteLimit": 2048000,
      "rowLimit": 10000
     },
     "inputWidgets": {},
     "nuid": "21ec160d-3bb1-41da-ac87-c97687e9a476",
     "showTitle": false,
     "tableResultSettingsMap": {},
     "title": ""
    }
   },
   "outputs": [],
   "source": [
    "from typing import TypedDict\n",
    "\n",
    "class Row(TypedDict):\n",
    "    id: str\n",
    "    trip_id: int\n",
    "    timestamps: list[datetime.datetime]\n",
    "    positions: list[tuple[float, float]]\n",
    "\n",
    "\n",
    "trips = df_trips.toArrow().to_pylist()"
   ]
  },
  {
   "cell_type": "code",
   "execution_count": 0,
   "metadata": {
    "application/vnd.databricks.v1+cell": {
     "cellMetadata": {
      "byteLimit": 2048000,
      "rowLimit": 10000
     },
     "inputWidgets": {},
     "nuid": "e7338084-f7d3-453d-9cac-55c8484e3928",
     "showTitle": false,
     "tableResultSettingsMap": {},
     "title": ""
    }
   },
   "outputs": [],
   "source": [
    "routes = []\n",
    "for trip in trips:\n",
    "    routes.append(\n",
    "        {\n",
    "            \"type\": \"Feature\",\n",
    "            \"geometry\": {\n",
    "                \"type\": \"LineString\",\n",
    "                \"coordinates\": trip[\"positions\"],\n",
    "            },\n",
    "            \"properties\": {\n",
    "                \"times\": [ts.isoformat() for ts in trip[\"timestamps\"]],\n",
    "                \"style\": {\n",
    "                    \"weight\": 0,\n",
    "                },\n",
    "                \"icon\": \"circle\",\n",
    "                \"iconstyle\": {\n",
    "                    \"fillColor\": \"red\",\n",
    "                    \"fillOpacity\": 0.6,\n",
    "                    \"stroke\": \"false\",\n",
    "                    \"radius\": 5,\n",
    "                },\n",
    "            },\n",
    "        }\n",
    "    )"
   ]
  },
  {
   "cell_type": "code",
   "execution_count": 0,
   "metadata": {
    "application/vnd.databricks.v1+cell": {
     "cellMetadata": {
      "byteLimit": 2048000,
      "rowLimit": 10000
     },
     "inputWidgets": {},
     "nuid": "a168fa98-ece5-4f86-a404-9db3c5f172d6",
     "showTitle": false,
     "tableResultSettingsMap": {},
     "title": ""
    }
   },
   "outputs": [],
   "source": [
    "lng, lat = -0.13381370382489707, 51.518898098201326\n",
    "resolution = 6\n",
    "\n",
    "m = folium.Map(\n",
    "    location=[lat, lng],\n",
    "    zoom_start=13,\n",
    "    tiles=\"CartoDB Positron\",\n",
    ")\n",
    "\n",
    "TimestampedGeoJson(\n",
    "    {\"type\": \"FeatureCollection\", \"features\": routes},\n",
    "    add_last_point=True,\n",
    "    loop=True,\n",
    "    auto_play=False,\n",
    "    date_options=\"YYYY/MM/DD HH:mm:ss\",\n",
    "    period=\"PT1M\",\n",
    "    duration=\"PT1M\",\n",
    "    loop_button=True,\n",
    ").add_to(m)\n",
    "\n",
    "m"
   ]
  }
 ],
 "metadata": {
  "application/vnd.databricks.v1+notebook": {
   "computePreferences": null,
   "dashboards": [],
   "environmentMetadata": {
    "base_environment": "",
    "environment_version": "2"
   },
   "inputWidgetPreferences": null,
   "language": "python",
   "notebookMetadata": {
    "pythonIndentUnit": 4
   },
   "notebookName": "scratch",
   "widgets": {}
  },
  "language_info": {
   "name": "python"
  }
 },
 "nbformat": 4,
 "nbformat_minor": 0
}
